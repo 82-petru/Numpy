{
 "cells": [
  {
   "cell_type": "raw",
   "metadata": {},
   "source": []
  },
  {
   "cell_type": "markdown",
   "metadata": {},
   "source": [
    "# NumPy"
   ]
  },
  {
   "cell_type": "markdown",
   "metadata": {},
   "source": [
    " **What is Numpy?**\n",
    "\n",
    "It is a extention module(library) of Python used for working with multidimensional and single arrays element, performs various numerical computations and processing. It is also capable of handling a vast amount of data and convinient with Matrix multiplication and data reshaping.\n",
    "\n",
    "NumPy has many uses including:\n",
    "\n",
    "- Efficiently working with many numbers at once\n",
    "- Generating random numbers\n",
    "- Performing many different numerical functions and mathematical operations (i.e., calculating sin, cos, tan, mean, median, etc.)\n",
    "\n",
    "To use numpy with python you have to import it by fallowing line **import numpy as np** \n",
    "\n",
    "**Advantages**\n",
    "- Numpy are more efficient than list, one reason is that allows you to perform quickly operation, such as addition, on each element on array.\n"
   ]
  },
  {
   "cell_type": "markdown",
   "metadata": {},
   "source": [
    "NumPy Arrays\n",
    "\n",
    "- NumPy arrays are unique in that they are more flexible than normal Python lists. They are called ndarrays since they can have any number (n) of dimensions (d). They hold a collection of items of any one data type and can be either a vector (one-dimensional) or a matrix (multi-dimensional). NumPy arrays allow for fast element access and efficient data manipulation.\n",
    "\n",
    "- RO: Multimele NumPy sunt unice prin faptul că sunt mai flexibile decât listele normale Python. Acestea sunt numite ndarrays, deoarece pot avea orice număr (n) de dimensiuni (d). Acestea conțin o colecție de articole de orice tip de date și pot fi fie un vector (unidimensional), fie o matrice (multidimensional). Tablourile NumPy permit accesul rapid la elemente și manipularea eficientă a datelor."
   ]
  },
  {
   "cell_type": "code",
   "execution_count": 2,
   "metadata": {},
   "outputs": [],
   "source": [
    "import numpy as np\n",
    "from matplotlib import pyplot as plt"
   ]
  },
  {
   "cell_type": "markdown",
   "metadata": {},
   "source": [
    "**np.array()**\n",
    "\n",
    "It is a powerfull data structure(data organization, management for easy access), it's data structure takes multiple items, each item can be any type (strings, numbers, or even other arrays)"
   ]
  },
  {
   "cell_type": "code",
   "execution_count": 3,
   "metadata": {},
   "outputs": [
    {
     "data": {
      "text/plain": [
       "array([92, 94, 88, 91, 87])"
      ]
     },
     "execution_count": 3,
     "metadata": {},
     "output_type": "execute_result"
    }
   ],
   "source": [
    "#imagine that you are a teacher and you need to keep track of your students test score.Each grade represent the score from a student\n",
    "test_1 = [92, 94, 88, 91, 87]\n",
    "np.array(test_1)"
   ]
  },
  {
   "cell_type": "markdown",
   "metadata": {},
   "source": [
    "**Creating an array from CSV**\n",
    "\n",
    "We’re able to **transform CSV (comma-separated values)** files into arrays using the **np.genfromtxt()** function:\n",
    "- create the file in csv format\n",
    "- import file by following code: **np.genfromtxt('filename', delimiter = ',' or ':' or ' ')**\n",
    "\n",
    "OBS. sometimes you will find files with other delimiters like being colon,tabs, semicolons. "
   ]
  },
  {
   "cell_type": "code",
   "execution_count": 4,
   "metadata": {},
   "outputs": [
    {
     "ename": "OSError",
     "evalue": "sample.csv not found.",
     "output_type": "error",
     "traceback": [
      "\u001b[1;31m---------------------------------------------------------------------------\u001b[0m",
      "\u001b[1;31mOSError\u001b[0m                                   Traceback (most recent call last)",
      "\u001b[1;32m<ipython-input-4-4bb3336925ae>\u001b[0m in \u001b[0;36m<module>\u001b[1;34m\u001b[0m\n\u001b[0;32m      1\u001b[0m \u001b[0mx\u001b[0m \u001b[1;33m=\u001b[0m \u001b[1;34m'sample.csv'\u001b[0m\u001b[1;33m\u001b[0m\u001b[1;33m\u001b[0m\u001b[0m\n\u001b[1;32m----> 2\u001b[1;33m \u001b[0mcsv_array\u001b[0m \u001b[1;33m=\u001b[0m \u001b[0mnp\u001b[0m\u001b[1;33m.\u001b[0m\u001b[0mgenfromtxt\u001b[0m\u001b[1;33m(\u001b[0m\u001b[0mx\u001b[0m\u001b[1;33m,\u001b[0m \u001b[0mdelimiter\u001b[0m \u001b[1;33m=\u001b[0m \u001b[1;34m';'\u001b[0m\u001b[1;33m)\u001b[0m\u001b[1;33m\u001b[0m\u001b[1;33m\u001b[0m\u001b[0m\n\u001b[0m\u001b[0;32m      3\u001b[0m \u001b[0mcsv_array\u001b[0m\u001b[1;33m\u001b[0m\u001b[1;33m\u001b[0m\u001b[0m\n",
      "\u001b[1;32m~\\AppData\\Local\\Continuum\\anaconda3\\lib\\site-packages\\numpy\\lib\\npyio.py\u001b[0m in \u001b[0;36mgenfromtxt\u001b[1;34m(fname, dtype, comments, delimiter, skip_header, skip_footer, converters, missing_values, filling_values, usecols, names, excludelist, deletechars, replace_space, autostrip, case_sensitive, defaultfmt, unpack, usemask, loose, invalid_raise, max_rows, encoding)\u001b[0m\n\u001b[0;32m   1742\u001b[0m             \u001b[0mfname\u001b[0m \u001b[1;33m=\u001b[0m \u001b[0mos_fspath\u001b[0m\u001b[1;33m(\u001b[0m\u001b[0mfname\u001b[0m\u001b[1;33m)\u001b[0m\u001b[1;33m\u001b[0m\u001b[1;33m\u001b[0m\u001b[0m\n\u001b[0;32m   1743\u001b[0m         \u001b[1;32mif\u001b[0m \u001b[0misinstance\u001b[0m\u001b[1;33m(\u001b[0m\u001b[0mfname\u001b[0m\u001b[1;33m,\u001b[0m \u001b[0mbasestring\u001b[0m\u001b[1;33m)\u001b[0m\u001b[1;33m:\u001b[0m\u001b[1;33m\u001b[0m\u001b[1;33m\u001b[0m\u001b[0m\n\u001b[1;32m-> 1744\u001b[1;33m             \u001b[0mfhd\u001b[0m \u001b[1;33m=\u001b[0m \u001b[0miter\u001b[0m\u001b[1;33m(\u001b[0m\u001b[0mnp\u001b[0m\u001b[1;33m.\u001b[0m\u001b[0mlib\u001b[0m\u001b[1;33m.\u001b[0m\u001b[0m_datasource\u001b[0m\u001b[1;33m.\u001b[0m\u001b[0mopen\u001b[0m\u001b[1;33m(\u001b[0m\u001b[0mfname\u001b[0m\u001b[1;33m,\u001b[0m \u001b[1;34m'rt'\u001b[0m\u001b[1;33m,\u001b[0m \u001b[0mencoding\u001b[0m\u001b[1;33m=\u001b[0m\u001b[0mencoding\u001b[0m\u001b[1;33m)\u001b[0m\u001b[1;33m)\u001b[0m\u001b[1;33m\u001b[0m\u001b[1;33m\u001b[0m\u001b[0m\n\u001b[0m\u001b[0;32m   1745\u001b[0m             \u001b[0mown_fhd\u001b[0m \u001b[1;33m=\u001b[0m \u001b[1;32mTrue\u001b[0m\u001b[1;33m\u001b[0m\u001b[1;33m\u001b[0m\u001b[0m\n\u001b[0;32m   1746\u001b[0m         \u001b[1;32melse\u001b[0m\u001b[1;33m:\u001b[0m\u001b[1;33m\u001b[0m\u001b[1;33m\u001b[0m\u001b[0m\n",
      "\u001b[1;32m~\\AppData\\Local\\Continuum\\anaconda3\\lib\\site-packages\\numpy\\lib\\_datasource.py\u001b[0m in \u001b[0;36mopen\u001b[1;34m(path, mode, destpath, encoding, newline)\u001b[0m\n\u001b[0;32m    264\u001b[0m \u001b[1;33m\u001b[0m\u001b[0m\n\u001b[0;32m    265\u001b[0m     \u001b[0mds\u001b[0m \u001b[1;33m=\u001b[0m \u001b[0mDataSource\u001b[0m\u001b[1;33m(\u001b[0m\u001b[0mdestpath\u001b[0m\u001b[1;33m)\u001b[0m\u001b[1;33m\u001b[0m\u001b[1;33m\u001b[0m\u001b[0m\n\u001b[1;32m--> 266\u001b[1;33m     \u001b[1;32mreturn\u001b[0m \u001b[0mds\u001b[0m\u001b[1;33m.\u001b[0m\u001b[0mopen\u001b[0m\u001b[1;33m(\u001b[0m\u001b[0mpath\u001b[0m\u001b[1;33m,\u001b[0m \u001b[0mmode\u001b[0m\u001b[1;33m,\u001b[0m \u001b[0mencoding\u001b[0m\u001b[1;33m=\u001b[0m\u001b[0mencoding\u001b[0m\u001b[1;33m,\u001b[0m \u001b[0mnewline\u001b[0m\u001b[1;33m=\u001b[0m\u001b[0mnewline\u001b[0m\u001b[1;33m)\u001b[0m\u001b[1;33m\u001b[0m\u001b[1;33m\u001b[0m\u001b[0m\n\u001b[0m\u001b[0;32m    267\u001b[0m \u001b[1;33m\u001b[0m\u001b[0m\n\u001b[0;32m    268\u001b[0m \u001b[1;33m\u001b[0m\u001b[0m\n",
      "\u001b[1;32m~\\AppData\\Local\\Continuum\\anaconda3\\lib\\site-packages\\numpy\\lib\\_datasource.py\u001b[0m in \u001b[0;36mopen\u001b[1;34m(self, path, mode, encoding, newline)\u001b[0m\n\u001b[0;32m    622\u001b[0m                                       encoding=encoding, newline=newline)\n\u001b[0;32m    623\u001b[0m         \u001b[1;32melse\u001b[0m\u001b[1;33m:\u001b[0m\u001b[1;33m\u001b[0m\u001b[1;33m\u001b[0m\u001b[0m\n\u001b[1;32m--> 624\u001b[1;33m             \u001b[1;32mraise\u001b[0m \u001b[0mIOError\u001b[0m\u001b[1;33m(\u001b[0m\u001b[1;34m\"%s not found.\"\u001b[0m \u001b[1;33m%\u001b[0m \u001b[0mpath\u001b[0m\u001b[1;33m)\u001b[0m\u001b[1;33m\u001b[0m\u001b[1;33m\u001b[0m\u001b[0m\n\u001b[0m\u001b[0;32m    625\u001b[0m \u001b[1;33m\u001b[0m\u001b[0m\n\u001b[0;32m    626\u001b[0m \u001b[1;33m\u001b[0m\u001b[0m\n",
      "\u001b[1;31mOSError\u001b[0m: sample.csv not found."
     ]
    }
   ],
   "source": [
    "x = 'sample.csv'\n",
    "csv_array = np.genfromtxt(x, delimiter = ';')\n",
    "csv_array"
   ]
  },
  {
   "cell_type": "markdown",
   "metadata": {},
   "source": [
    "**Operation with Numpy Arrays**\n",
    "\n",
    "Let’s compare how to add a number to each value in a python list versus a NumPy array: as we can see, we are saving 3 lines of code plus errors. \n",
    "\n",
    "Operations:\n",
    "- addition, multiply, square, rootsquare\n",
    "- adding and substracting from each other, to its matching element\n"
   ]
  },
  {
   "cell_type": "code",
   "execution_count": null,
   "metadata": {},
   "outputs": [],
   "source": [
    "l = [1, 2, 3, 4, 5]\n",
    "l_plus_3 = []\n",
    "for i in range(len(l)):\n",
    "    l_plus_3.append(l[i] + 3)\n",
    "l_plus_3"
   ]
  },
  {
   "cell_type": "code",
   "execution_count": null,
   "metadata": {},
   "outputs": [],
   "source": [
    "# operation on every element in an array\n",
    "x = np.array(l)\n",
    "x_plus_3 = x + 3\n",
    "x_plus_3"
   ]
  },
  {
   "cell_type": "code",
   "execution_count": null,
   "metadata": {},
   "outputs": [],
   "source": [
    "#squaring each value type 1\n",
    "x ** 2"
   ]
  },
  {
   "cell_type": "code",
   "execution_count": null,
   "metadata": {},
   "outputs": [],
   "source": [
    "# root square for  each value\n",
    "np.sqrt(x)"
   ]
  },
  {
   "cell_type": "code",
   "execution_count": null,
   "metadata": {},
   "outputs": [],
   "source": [
    "# adding the three arrays and finding the average of each student \n",
    "test_1 = np.array([92, 94, 88, 91, 87])\n",
    "test_2 = np.array([79, 100, 86, 93, 91])\n",
    "test_3 = np.array([87, 85, 72, 90, 92])\n",
    "test_group = test_1 + test_2 + test_3\n",
    "final_grade = test_group // 3\n",
    "final_grade"
   ]
  },
  {
   "cell_type": "markdown",
   "metadata": {},
   "source": [
    "**Two dimesnional array**\n",
    "\n",
    "How it is build?\n",
    "\n",
    "If the arrays that make up our bigger array are all the same size, then it has a special name: a two-dimensional array.\n",
    "\n",
    "How it works?\n",
    "\n",
    "**np.array[[same number of elements], [same number of elements], [same number of elements]]** is like a list of lists with two rounds of square brackets where each list have same number of elements "
   ]
  },
  {
   "cell_type": "code",
   "execution_count": null,
   "metadata": {},
   "outputs": [],
   "source": [
    "# each row represent a test and each column represent a student \n",
    "np.array([[92, 94, 88, 91, 87], \n",
    "          [79, 100, 86, 93, 91],\n",
    "          [87, 85, 72, 90, 92]])\n"
   ]
  },
  {
   "attachments": {
    "image.png": {
     "image/png": "[encoded data removed]"
    }
   },
   "cell_type": "markdown",
   "metadata": {},
   "source": [
    "**Selecting Elements from one and two dimensional array**\n",
    "\n",
    "How it works?\n",
    "\n",
    "Numpy allows you to select elemnts by using indices.\n",
    "The syntax for selecting from a 2-d array is **object[row, column]**\n",
    "\n",
    "How are defined axis in a numpy array?\n",
    "\n",
    "A two-dimensional array has two axes: axis 0 represents the values that share the same indexical position (are in the same column), and axis 1 represents the values that share an array (are in the same row). This is illustrated below.\n",
    "![image.png](attachment:image.png)"
   ]
  },
  {
   "cell_type": "code",
   "execution_count": null,
   "metadata": {},
   "outputs": [],
   "source": [
    "# one dimensional array\n",
    "a = np.array([5, 2, 7, 0, 11])\n",
    "a[1:3]"
   ]
  },
  {
   "cell_type": "code",
   "execution_count": null,
   "metadata": {},
   "outputs": [],
   "source": [
    "# two dimensional array, select the last column\n",
    "a = np.array([[32, 15, 6, 9, 14], \n",
    "              [12, 10, 5, 23, 1],\n",
    "              [2, 16, 13, 40, 37]])\n",
    "a[ : , 4]"
   ]
  },
  {
   "cell_type": "code",
   "execution_count": null,
   "metadata": {},
   "outputs": [],
   "source": [
    "# two dimensional array, select the first column\n",
    "print(a[:, 0 ])\n",
    "# two dimensional array, select the second row\n",
    "print(a[1, :])\n",
    "# selects the first three elements of the first row\n",
    "print(a[0,: 3])\n",
    "# select the last element from column 1\n",
    "print(a[2, :1])"
   ]
  },
  {
   "cell_type": "markdown",
   "metadata": {},
   "source": [
    "**Logical conditions and arrays**\n",
    "\n",
    "Logical operators can be used to create new, more focused array.\n",
    "\n",
    "- logical operators **<, >, ==, !=**\n",
    "- logical statements \n",
    "- use boolean operators like **and, or**"
   ]
  },
  {
   "cell_type": "code",
   "execution_count": null,
   "metadata": {},
   "outputs": [],
   "source": [
    "# suppose we want to know how many elements in an array are greater than 5, this line of code evaluates with True and False\n",
    "a = np.array([10, 2, 2, 4, 5, 3, 9, 8, 9, 7])\n",
    "a > 5"
   ]
  },
  {
   "cell_type": "code",
   "execution_count": null,
   "metadata": {},
   "outputs": [],
   "source": [
    "# we can use logical operator to select items and evaluate them \n",
    "a[a > 5]"
   ]
  },
  {
   "cell_type": "code",
   "execution_count": null,
   "metadata": {},
   "outputs": [],
   "source": [
    "# we can combine logical statements with boolean operators \n",
    "a[(a > 5) | (a < 2)]"
   ]
  },
  {
   "cell_type": "markdown",
   "metadata": {},
   "source": [
    "**Review**\n",
    "\n",
    "Let’s take a second and review. In this lesson, you learned the basics of the NumPy package. Here are some key points:\n",
    "\n",
    "- Arrays are a special type of list that allows us to store values in an organized manner.\n",
    "- An array can be created by either defining it directly using np.array() or by importing a CSV using np.genfromtxt('file.csv', delimiter=',').\n",
    "- An operation (such as addition) can be performed on every element in an array by simply performing it on the array itself.\n",
    "- Elements can be selected from arrays using their index and array locations, both of which start at 0.\n",
    "- Logical operations can be used to create new, more focused arrays out of larger arrays."
   ]
  },
  {
   "cell_type": "markdown",
   "metadata": {},
   "source": [
    "The next array has defined columns when sensor records the temperature 4 times per day, and rows are days from Monday through Friday. "
   ]
  },
  {
   "cell_type": "code",
   "execution_count": null,
   "metadata": {},
   "outputs": [],
   "source": [
    "# import data in the csv\n",
    "array = np.genfromtxt('temperature_data.csv', delimiter = ',')\n",
    "array"
   ]
  },
  {
   "cell_type": "code",
   "execution_count": null,
   "metadata": {},
   "outputs": [],
   "source": [
    "# adjust the array so that to add 3 for each element \n",
    "array_fixed = array + 3\n",
    "array_fixed"
   ]
  },
  {
   "cell_type": "code",
   "execution_count": null,
   "metadata": {},
   "outputs": [],
   "source": [
    "# select the temperature from first day Monday\n",
    "array_monday = array_fixed[0, ]\n",
    "array_monday"
   ]
  },
  {
   "cell_type": "code",
   "execution_count": null,
   "metadata": {},
   "outputs": [],
   "source": [
    "# select data from last rows(4 and 5) second column \n",
    "morning_array = array_fixed[3 : , 1]\n",
    "morning_array"
   ]
  },
  {
   "cell_type": "code",
   "execution_count": null,
   "metadata": {},
   "outputs": [],
   "source": [
    "# select all the temperature that are under 50 degrees or over 60 degrees \n",
    "temperature_extremes = array_fixed[(array_fixed < 50) | (array_fixed > 60)]\n",
    "temperature_extremes"
   ]
  },
  {
   "cell_type": "code",
   "execution_count": null,
   "metadata": {},
   "outputs": [],
   "source": [
    "# Which logical operation could be performed on the array to return\n",
    "a = np.array([10, 4, 6, 9, 18, 22, 11, 13, 3, 2, 15])\n",
    "b = a[(a > 15) | (a < 5)]\n",
    "b"
   ]
  },
  {
   "cell_type": "code",
   "execution_count": null,
   "metadata": {},
   "outputs": [],
   "source": [
    "np.array([[1, 2], [3, 4]])"
   ]
  },
  {
   "cell_type": "markdown",
   "metadata": {},
   "source": [
    "**Numpy and statistical operations**\n",
    "\n",
    "Mean\n",
    "- mean is good to measure center tendency of a dataset\n",
    "- is a good indicator for a group of values. \n",
    "- transform data to a numpy array then use the function **np.mean()** to calculate the average.\n",
    "- calculate the percent of array: **How it works?** as we know a logical operator will evaluate if the condition is True, if the item matches to given codition the function will turn True and equal with 1. otherwise False and equal with 0.When np.mean() calculate a logical statement, the resulting mean will be equivalent to the total number of True value divided by total array length\n"
   ]
  },
  {
   "cell_type": "markdown",
   "metadata": {},
   "source": [
    "**Calculate the percent of array**"
   ]
  },
  {
   "cell_type": "code",
   "execution_count": null,
   "metadata": {},
   "outputs": [],
   "source": [
    "# examplae of percentage calculation \n",
    "class_year = np.array([1967, 1949, 2004, 1997, 1953, 1950, 1958, 1974, 1987, 2006, 2013, 1978, 1951, 1998, 1996, 1952, 2005, \n",
    "                       2007, 2003, 1955, 1963, 1978, 2001, 2012, 2014, 1948, 1970, 2011, 1962, 1966, 1978, 1988, 2006, 1971, \n",
    "                       1994, 1978, 1977, 1960, 2008, 1965, 1990, 2011, 1962, 1995, 2004, 1991, 1952, 2013, 1983, 1955, 1957, \n",
    "                       1947, 1994, 1978, 1957, 2016, 1969, 1996, 1958, 1994, 1958, 2008, 1988, 1977, 1991, 1997, 2009, 1976, \n",
    "                       1999, 1975, 1949, 1985, 2001, 1952, 1953, 1949, 2015, 2006, 1996, 2015, 2009, 1949, 2004, 2010, 2011, \n",
    "                       2001, 1998, 1967, 1994, 1966, 1994, 1986, 1963, 1954, 1963, 1987, 1992, 2008, 1979, 1987])\n",
    "millenials = np.mean((class_year > 2000) * 100)\n",
    "millenials"
   ]
  },
  {
   "cell_type": "markdown",
   "metadata": {},
   "source": [
    "**Calculating the mean of 2D array**\n",
    "\n",
    "How it works?\n",
    "- you can find the mean for each row and column by using function mean() and using argument the array and specify the axis  **np.mean(array_name, axis = 0 or 1)**"
   ]
  },
  {
   "cell_type": "code",
   "execution_count": null,
   "metadata": {},
   "outputs": [],
   "source": [
    "# Find the mean for each row\n",
    "trials = np.array([[6, 1, 3, 8, 2], \n",
    "                           [2, 6, 3, 9, 8], \n",
    "                           [5, 2, 6, 9, 9]])\n",
    "np.round(np.mean(trials, axis = 0), 1)"
   ]
  },
  {
   "cell_type": "code",
   "execution_count": null,
   "metadata": {},
   "outputs": [],
   "source": [
    "# find the average level for entire array \n",
    "trials.mean()"
   ]
  },
  {
   "cell_type": "code",
   "execution_count": null,
   "metadata": {},
   "outputs": [],
   "source": [
    "# find the average level for each column \n",
    "np.round(np.mean(trials, axis = 0))"
   ]
  },
  {
   "cell_type": "markdown",
   "metadata": {},
   "source": [
    "**Outliers**\n",
    "\n",
    "However, the mean is highly influenced by the specific values in our data set.\n",
    "\n",
    "What is a outlier?\n",
    "- values that don't fit within majority of dataset are known as outliers.\n",
    "\n",
    "What happens when one of those values is significantly different from the rest?\n",
    "- if one or more are extremely different from majority of data set, they can skew our data and lead to error, making mean a wrong indication of dataset.\n",
    "\n",
    "How can determine the root of outlier?\n",
    "- Some outliers could be errors and some aren't result of a mistake. For instance,  suppose that one of our 3rd graders had skipped a grade and was actually a year younger than everyone else in the class:\n",
    "\n",
    "how we indentify outliers?\n",
    "\n",
    "Is by sorting our data to see if some values lie far beyond the expected range, we can use numpy function **np.sort()**. This function sort the values in order.\n"
   ]
  },
  {
   "cell_type": "code",
   "execution_count": null,
   "metadata": {},
   "outputs": [],
   "source": [
    "temps = np.array([86, 88, 94, 85, 97, 90, 87, 85, 94, 93, 92, 95, 98, 85, 94, 91, 97, 88, 87, 86, 99, 89, 89, 99, 88, 96, 93,\n",
    "                  96, 85, 88, 191, 95, 96, 87, 99, 93, 90, 86, 87, 100, 187, 98, 101, 101, 96, 94, 96, 87, 86, 92, 98,94, 98, \n",
    "                  90, 99, 96, 99, 86, 97, 98, 86, 90, 86, 94, 91, 88, 196, 195,93, 97, 199, 87, 87, 90, 90, 98, 88, 92, 97, \n",
    "                  88, 85, 94, 88, 93, 198, 90, 91, 90, 92, 92])\n",
    "sorted = np.sort(temps)\n",
    "np.median(temps)"
   ]
  },
  {
   "cell_type": "markdown",
   "metadata": {},
   "source": [
    "**Median**\n",
    "\n",
    "What is median?\n",
    "- Median is a key metric, and is the middle value of a dataset that's been ordered in terms of magnitude from lowest to highest.\n",
    "\n",
    "Observation:\n",
    "- for even dataset the median would be the value between two centred values.\n",
    "- unlike the mean the median is not affected by the outliers, use of median is important in datasets where values are skewed not distributed evenly\n",
    "\n",
    "how it used?\n",
    "- np.median(array_name)"
   ]
  },
  {
   "attachments": {
    "Capture.PNG": {
     "image/png": "[encoded data removed]"
    }
   },
   "cell_type": "markdown",
   "metadata": {},
   "source": [
    "**Percentiles**\n",
    "\n",
    "What is percentile?\n",
    "-  what if we wanted to find a point at which 40% of the samples are below and 60% are above?  \n",
    "- percentile are useful measurement because they can tell us where a particular values is situated \n",
    "\n",
    "How it is defined?\n",
    "- the Nth percentile is defined as the point N% samples lie below it, so the point where 40% are below is called the 40th percentile.\n",
    "- Example: there are 11 numbers in the dataset, the 40th percentile will have 40% of the 10 remaining numbers below it (40% of 10 is 4) and 60% of the numbers above it (60% of 10 is 6.\n",
    "- ![Capture.PNG](attachment:Capture.PNG)\n",
    "What we calculate?\n",
    "- in numpy we can calculate percentiles using the function **np.percentile(array_name, percentile_to_calculate** which takes two arguments the **array** and **percentile to calculate**.\n",
    "What do percentiles tell us?\n",
    "- One well-known example is for standardized test scores. Percentiles tell us how well someone performed relative to all other test scores. A score in the 95th percentile means that they performed better than 95 percent of test takers and 5 percent performed better.\n",
    "\n",
    "In addition:\n",
    "Some percentiles have specific names:\n",
    "\n",
    "- The 25th percentile is called the first quartile\n",
    "- The 50th percentile is called the median\n",
    "- The 75th percentile is called the third quartile\n",
    "- The difference between the first and third quartile is a value called the interquartile range. \n",
    "\n",
    "Observation!!\n",
    "\n",
    "- 50% of the dataset will lie within the interquartile range. The interquartile range gives us an idea of how spread out our data is. The smaller the interquartile range value, the less variance in our dataset. The greater the value, the larger the variance."
   ]
  },
  {
   "cell_type": "code",
   "execution_count": null,
   "metadata": {},
   "outputs": [],
   "source": [
    "# Example find the percentile for odd data set \n",
    "patrons = np.array([ 2, 6, 14, 4, 3, 9, 1, 11, 4, 2, 8, 12, 15])\n",
    "print(len(patrons))\n",
    "print(np.sort(patrons))\n",
    "np.percentile(patrons, 40)"
   ]
  },
  {
   "cell_type": "code",
   "execution_count": null,
   "metadata": {},
   "outputs": [],
   "source": [
    "# example \n",
    "d = [1, 2, 3, 4, 4, 4, 6, 6, 7, 8, 8]\n",
    "print(len(d))\n",
    "first = np.percentile(d, 25)\n",
    "third = np.percentile(d, 75)\n",
    "print(np.percentile(d, 50))\n",
    "interquartile = third - first \n",
    "interquartile"
   ]
  },
  {
   "cell_type": "code",
   "execution_count": null,
   "metadata": {},
   "outputs": [],
   "source": [
    "# below datset represent the amount of hours from 15 users watching netflix, find 25th and 75th  percentiles \n",
    "watched = np.array([2, 3, 8, 0, 2, 4, 3, 1, 1, 0, 5, 1, 1, 7, 2])\n",
    "first_quarter = np.percentile(watched, 25)\n",
    "third_quarter = np.percentile(watched, 75)\n",
    "# the value between first quartile and thisrd quartile is called interquartile, you can find this value by substracting first from third quartile\n",
    "interquartile = third_quartile - first_quartile \n",
    "print(first_quarter)\n",
    "print(third_quarter)"
   ]
  },
  {
   "cell_type": "markdown",
   "metadata": {},
   "source": [
    "**Standard deviation**\n",
    "\n",
    "What is standard deviation?\n",
    "- while mean and median tell us about the center of dataset, standard deviations helps us to reflect the range of the data, similar to the variance the standard deviations tell us how data spread out \n",
    "- as larger standard deviation the value inside dataset are iregular distributed.(difference between values is higher)\n",
    "- std remain a good statistical indicator of a dataset's spread \n",
    "\n",
    "How it works?\n",
    "- it works by usuing Numpy function **np.std()**\n"
   ]
  },
  {
   "cell_type": "code",
   "execution_count": null,
   "metadata": {},
   "outputs": [],
   "source": [
    "# you have been given two datsets, one set represent the weight of pumpkins and second weighd of acorn squash\n",
    "pumpkin = np.array([68, 1820, 1420, 2062, 704, 1156, 1857, 1755, 2092, 1384])\n",
    "acorn_squash = np.array([20, 43, 99, 200, 12, 250, 58, 120, 230, 215])"
   ]
  },
  {
   "cell_type": "code",
   "execution_count": null,
   "metadata": {},
   "outputs": [],
   "source": [
    "# find the mean and std for this dataset\n",
    "pumpkin_mean = np.mean(pumpkin)\n",
    "print(pumpkin_mean)\n",
    "pumpkin_median = np.median(pumpkin)\n",
    "print(pumpkin_median)\n",
    "pumpkin_std = np.std(pumpkin)\n",
    "print(pumpkin_std)\n",
    "first = np.percentile(pumpkin, 5)\n",
    "third = np.percentile(pumpkin, 95)\n",
    "interquartile = third - first \n",
    "print(np.round(first), np.round(third))"
   ]
  },
  {
   "cell_type": "code",
   "execution_count": null,
   "metadata": {},
   "outputs": [],
   "source": [
    "squash_mean = np.mean(acorn_squash)\n",
    "print(squash_mean)\n",
    "squash_median = np.median(acorn_squash)\n",
    "print(squash_median)\n",
    "squash_std = np.std(acorn_squash)\n",
    "print(squash_std)\n",
    "first = np.percentile(acorn_squash, 25)\n",
    "third = np.percentile(acorn_squash, 75)\n",
    "interquartile = third - first \n",
    "print(interquartile)"
   ]
  },
  {
   "cell_type": "code",
   "execution_count": null,
   "metadata": {},
   "outputs": [],
   "source": [
    "plt.hist(pumpkin, bins = 20)\n",
    "plt.show()"
   ]
  },
  {
   "cell_type": "code",
   "execution_count": null,
   "metadata": {},
   "outputs": [],
   "source": [
    "plt.hist(acorn_squash, bins = 20)\n",
    "plt.show()"
   ]
  },
  {
   "cell_type": "markdown",
   "metadata": {},
   "source": [
    "**Sorting data** \n",
    "\n",
    "What is the method ?\n",
    "- use numpy function to sort the elements from lowest to highest **np.sort(array_name)**\n",
    "\n",
    "what is used for?\n",
    "- is a good method to locate outliers\n"
   ]
  },
  {
   "cell_type": "markdown",
   "metadata": {},
   "source": [
    "**What are the attributes of an array?**\n",
    "\n",
    "An array is usually a fixed-size container of items of the same type and size. The number of dimensions and items in an array is defined by its shape. The shape of an array is a tuple of non-negative integers that specify the sizes of each dimension.\n",
    "- In NumPy, dimensions are called axes. This means that if you have a 2D array that looks like this:\n",
    "- [[0., 0., 0.],\n",
    "-  [1., 1., 1.]]\n",
    "- Your array has 2 axes. The first axis has a length of 2 and the second axis has a length of 3. \n",
    "- Besides creating an array from a sequence of elements, you can easily create an array filled with 0’s by using function np.zeros()\n",
    "- Or an array filled with 1’s:\n",
    "- Or even an empty array! The function empty creates an array whose initial content is random and depends on the state of the memory. The reason to use empty over zeros (or something similar) is speed - just make sure to fill every element afterwards!\n",
    "- You can create an array with a range of elements:\n",
    "- And even an array that contains a range of evenly spaced intervals. To do this, you will specify the first number, last number, and the step size.\n",
    "- You can also use np.linspace() to create an array with values that are spaced linearly in a specified interval:\n",
    "\n",
    "**Specifying your data type**\n",
    "\n",
    "- While the default data type is floating point (np.float64), you can explicitly specify which data type you want using the dtype keyword."
   ]
  },
  {
   "cell_type": "code",
   "execution_count": 28,
   "metadata": {},
   "outputs": [
    {
     "name": "stdout",
     "output_type": "stream",
     "text": [
      "[0. 0.]\n",
      "[1. 1. 1.]\n",
      "[0. 0.]\n",
      "[0 1 2 3]\n",
      "[2 4 6 8]\n",
      "[  0.  25.  50.  75. 100.]\n",
      "[1. 1. 1. 1.]\n"
     ]
    }
   ],
   "source": [
    "zero = np.zeros(2)\n",
    "ones = np.ones(3)\n",
    "empty = np.empty(2)\n",
    "range = np.arange(4)\n",
    "range_step = np.arange(2, 9, 2)\n",
    "linear = np.linspace(0, 100 , num = 5)\n",
    "data_type = np.ones(4, dtype = np.float64)\n",
    "print(zero)\n",
    "print(ones)\n",
    "print(empty)\n",
    "print(range)\n",
    "print(range_step)\n",
    "print(linear)\n",
    "print(data_type)"
   ]
  },
  {
   "cell_type": "markdown",
   "metadata": {},
   "source": [
    "**Adding, removing, and sorting elements**\n",
    "- Sorting an element is simple with np.sort(). You can specify the axis, kind, and order when you call the function.\n",
    "- In addition to sort, which returns a sorted copy of an array, you can use\n",
    "    - argsort, which is an indirect sort along a specified axis,\n",
    "    - lexsort, which is an indirect stable sort on multiple keys,\n",
    "    - searchsorted, which will find elements in a sorted array, and\n",
    "    partition, which is a partial sort.\n",
    "- You can concatenate them with np.concatenate()."
   ]
  },
  {
   "cell_type": "code",
   "execution_count": 29,
   "metadata": {},
   "outputs": [],
   "source": [
    "# starting with this array \n",
    "arr = np.array([2, 1, 5, 3, 7, 4, 6, 8])"
   ]
  },
  {
   "cell_type": "code",
   "execution_count": 30,
   "metadata": {},
   "outputs": [
    {
     "data": {
      "text/plain": [
       "array([1, 2, 3, 4, 5, 6, 7, 8])"
      ]
     },
     "execution_count": 30,
     "metadata": {},
     "output_type": "execute_result"
    }
   ],
   "source": [
    "# sorting the number in ascending order\n",
    "np.sort(arr)"
   ]
  },
  {
   "cell_type": "code",
   "execution_count": 31,
   "metadata": {},
   "outputs": [
    {
     "data": {
      "text/plain": [
       "array([1, 2, 3, 4, 5, 6, 7, 8])"
      ]
     },
     "execution_count": 31,
     "metadata": {},
     "output_type": "execute_result"
    }
   ],
   "source": [
    "# concatenate two arrays\n",
    "a = np.array([1, 2, 3, 4])\n",
    "b = np.array([5, 6, 7, 8])\n",
    "np.concatenate((a, b))"
   ]
  },
  {
   "cell_type": "code",
   "execution_count": 32,
   "metadata": {},
   "outputs": [
    {
     "data": {
      "text/plain": [
       "array([[1, 2],\n",
       "       [3, 4],\n",
       "       [5, 6]])"
      ]
     },
     "execution_count": 32,
     "metadata": {},
     "output_type": "execute_result"
    }
   ],
   "source": [
    "# concatenate by an axis \n",
    "x = np.array([[1, 2], [3, 4]])\n",
    "y = np.array([[5, 6]])\n",
    "np.concatenate((x, y), axis = 0)"
   ]
  },
  {
   "cell_type": "markdown",
   "metadata": {},
   "source": [
    "**Can you reshape an array?**\n",
    "- the section covers arr.reshape()\n",
    "\n",
    "Using arr.reshape() will give a new shape to an array without changing the data. Just remember that when you use the reshape method, the array you want to produce needs to have the same number of elements as the original array. If you start with an array with 12 elements, you’ll need to make sure that your new array also has a total of 12 elements."
   ]
  },
  {
   "cell_type": "code",
   "execution_count": 33,
   "metadata": {},
   "outputs": [
    {
     "data": {
      "text/plain": [
       "array([0, 1, 2, 3, 4, 5])"
      ]
     },
     "execution_count": 33,
     "metadata": {},
     "output_type": "execute_result"
    }
   ],
   "source": [
    "# if we start with this array\n",
    "a = np.arange(6)\n",
    "a"
   ]
  },
  {
   "cell_type": "code",
   "execution_count": 35,
   "metadata": {},
   "outputs": [
    {
     "data": {
      "text/plain": [
       "array([[0, 1],\n",
       "       [2, 3],\n",
       "       [4, 5]])"
      ]
     },
     "execution_count": 35,
     "metadata": {},
     "output_type": "execute_result"
    }
   ],
   "source": [
    "# you can use reshape function to reshape your array with 3 rows and two columns\n",
    "b = a.reshape(3, 2)\n",
    "b"
   ]
  },
  {
   "cell_type": "markdown",
   "metadata": {},
   "source": [
    "With np.reshape() you can specify a few parameters \n",
    "- newshape is the new shape you want. You can specify an integer or a tuple of integers. If you specify an integer, the result will be an array of that length. The shape should be compatible with the original shape.\n",
    "- order: C means to read/write the elements using C-like index order,"
   ]
  },
  {
   "cell_type": "code",
   "execution_count": 40,
   "metadata": {},
   "outputs": [
    {
     "data": {
      "text/plain": [
       "array([[0, 1, 2],\n",
       "       [3, 4, 5]])"
      ]
     },
     "execution_count": 40,
     "metadata": {},
     "output_type": "execute_result"
    }
   ],
   "source": [
    "np.reshape(a, newshape = (2, 3), order = 'C')"
   ]
  },
  {
   "cell_type": "markdown",
   "metadata": {},
   "source": [
    "**How do you know the shape and size of an array?**"
   ]
  },
  {
   "cell_type": "code",
   "execution_count": 53,
   "metadata": {},
   "outputs": [
    {
     "data": {
      "text/plain": [
       "array([[0, 1, 2, 3],\n",
       "       [4, 5, 6, 7],\n",
       "       [0, 1, 2, 3]])"
      ]
     },
     "execution_count": 53,
     "metadata": {},
     "output_type": "execute_result"
    }
   ],
   "source": [
    "# for example have created this array \n",
    "array = np.array([[0, 1, 2, 3],[4, 5, 6, 7], [0 ,1 ,2, 3]])\n",
    "array"
   ]
  },
  {
   "cell_type": "code",
   "execution_count": 54,
   "metadata": {},
   "outputs": [
    {
     "data": {
      "text/plain": [
       "2"
      ]
     },
     "execution_count": 54,
     "metadata": {},
     "output_type": "execute_result"
    }
   ],
   "source": [
    "# find the number of dimension of the array\n",
    "array.ndim"
   ]
  },
  {
   "cell_type": "code",
   "execution_count": 55,
   "metadata": {},
   "outputs": [
    {
     "data": {
      "text/plain": [
       "12"
      ]
     },
     "execution_count": 55,
     "metadata": {},
     "output_type": "execute_result"
    }
   ],
   "source": [
    "# find the total number of elements in the array \n",
    "array.size"
   ]
  },
  {
   "cell_type": "code",
   "execution_count": 56,
   "metadata": {},
   "outputs": [
    {
     "data": {
      "text/plain": [
       "(3, 4)"
      ]
     },
     "execution_count": 56,
     "metadata": {},
     "output_type": "execute_result"
    }
   ],
   "source": [
    "# find the shape of your array \n",
    "array.shape"
   ]
  },
  {
   "cell_type": "code",
   "execution_count": null,
   "metadata": {},
   "outputs": [],
   "source": []
  }
 ],
 "metadata": {
  "kernelspec": {
   "display_name": "Python 3",
   "language": "python",
   "name": "python3"
  },
  "language_info": {
   "codemirror_mode": {
    "name": "ipython",
    "version": 3
   },
   "file_extension": ".py",
   "mimetype": "text/x-python",
   "name": "python",
   "nbconvert_exporter": "python",
   "pygments_lexer": "ipython3",
   "version": "3.7.4"
  }
 },
 "nbformat": 4,
 "nbformat_minor": 2
}
